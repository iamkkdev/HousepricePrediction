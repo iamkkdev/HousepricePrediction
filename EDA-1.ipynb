{
 "cells": [
  {
   "cell_type": "code",
   "execution_count": 1,
   "id": "2b130bda",
   "metadata": {},
   "outputs": [],
   "source": [
    "#Imports\n",
    "import pandas as pd\n",
    "import numpy as np\n",
    "import missingno as msno\n",
    "\n",
    "#pd.set_option('display.max_rows', None)\n",
    "import warnings \n",
    "warnings.filterwarnings(\"ignore\")"
   ]
  },
  {
   "cell_type": "markdown",
   "id": "f896d5f4",
   "metadata": {},
   "source": [
    "## Problem Statement:\n",
    "\n",
    "### Real Estate Firm located in Ames, IA wants to know what are the most important factors that are affecting the housing saleprice in Ames, that should help them in budget estimations for their future real estate projects."
   ]
  },
  {
   "cell_type": "code",
   "execution_count": 2,
   "id": "b805b8f9",
   "metadata": {},
   "outputs": [
    {
     "name": "stdout",
     "output_type": "stream",
     "text": [
      "    Id        PID  MS SubClass MS Zoning  Lot Frontage  Lot Area Street Alley  \\\n",
      "0  109  533352170           60        RL           NaN     13517   Pave   NaN   \n",
      "1  544  531379050           60        RL          43.0     11492   Pave   NaN   \n",
      "2  153  535304180           20        RL          68.0      7922   Pave   NaN   \n",
      "3  318  916386060           60        RL          73.0      9802   Pave   NaN   \n",
      "4  255  906425045           50        RL          82.0     14235   Pave   NaN   \n",
      "\n",
      "  Lot Shape Land Contour  ... Screen Porch Pool Area Pool QC Fence  \\\n",
      "0       IR1          Lvl  ...            0         0     NaN   NaN   \n",
      "1       IR1          Lvl  ...            0         0     NaN   NaN   \n",
      "2       Reg          Lvl  ...            0         0     NaN   NaN   \n",
      "3       Reg          Lvl  ...            0         0     NaN   NaN   \n",
      "4       IR1          Lvl  ...            0         0     NaN   NaN   \n",
      "\n",
      "  Misc Feature Misc Val Mo Sold Yr Sold  Sale Type  SalePrice  \n",
      "0          NaN        0       3    2010        WD      130500  \n",
      "1          NaN        0       4    2009        WD      220000  \n",
      "2          NaN        0       1    2010        WD      109000  \n",
      "3          NaN        0       4    2010        WD      174000  \n",
      "4          NaN        0       3    2010        WD      138500  \n",
      "\n",
      "[5 rows x 81 columns]\n"
     ]
    }
   ],
   "source": [
    "#Reading the datasets\n",
    "df = pd.read_csv(\"datasets/train.csv\")\n",
    "df_test = pd.read_csv(\"datasets/test.csv\")\n",
    "print(df.head())"
   ]
  },
  {
   "cell_type": "code",
   "execution_count": 3,
   "id": "eec2bed0",
   "metadata": {},
   "outputs": [
    {
     "data": {
      "text/plain": [
       "(2051, 81)"
      ]
     },
     "execution_count": 3,
     "metadata": {},
     "output_type": "execute_result"
    }
   ],
   "source": [
    "#Checking rows and columns in the dataset\n",
    "df.shape"
   ]
  },
  {
   "cell_type": "code",
   "execution_count": 4,
   "id": "c13d6961",
   "metadata": {},
   "outputs": [
    {
     "name": "stdout",
     "output_type": "stream",
     "text": [
      "<class 'pandas.core.frame.DataFrame'>\n",
      "RangeIndex: 2051 entries, 0 to 2050\n",
      "Data columns (total 81 columns):\n",
      " #   Column           Non-Null Count  Dtype  \n",
      "---  ------           --------------  -----  \n",
      " 0   Id               2051 non-null   int64  \n",
      " 1   PID              2051 non-null   int64  \n",
      " 2   MS SubClass      2051 non-null   int64  \n",
      " 3   MS Zoning        2051 non-null   object \n",
      " 4   Lot Frontage     1721 non-null   float64\n",
      " 5   Lot Area         2051 non-null   int64  \n",
      " 6   Street           2051 non-null   object \n",
      " 7   Alley            140 non-null    object \n",
      " 8   Lot Shape        2051 non-null   object \n",
      " 9   Land Contour     2051 non-null   object \n",
      " 10  Utilities        2051 non-null   object \n",
      " 11  Lot Config       2051 non-null   object \n",
      " 12  Land Slope       2051 non-null   object \n",
      " 13  Neighborhood     2051 non-null   object \n",
      " 14  Condition 1      2051 non-null   object \n",
      " 15  Condition 2      2051 non-null   object \n",
      " 16  Bldg Type        2051 non-null   object \n",
      " 17  House Style      2051 non-null   object \n",
      " 18  Overall Qual     2051 non-null   int64  \n",
      " 19  Overall Cond     2051 non-null   int64  \n",
      " 20  Year Built       2051 non-null   int64  \n",
      " 21  Year Remod/Add   2051 non-null   int64  \n",
      " 22  Roof Style       2051 non-null   object \n",
      " 23  Roof Matl        2051 non-null   object \n",
      " 24  Exterior 1st     2051 non-null   object \n",
      " 25  Exterior 2nd     2051 non-null   object \n",
      " 26  Mas Vnr Type     2029 non-null   object \n",
      " 27  Mas Vnr Area     2029 non-null   float64\n",
      " 28  Exter Qual       2051 non-null   object \n",
      " 29  Exter Cond       2051 non-null   object \n",
      " 30  Foundation       2051 non-null   object \n",
      " 31  Bsmt Qual        1996 non-null   object \n",
      " 32  Bsmt Cond        1996 non-null   object \n",
      " 33  Bsmt Exposure    1993 non-null   object \n",
      " 34  BsmtFin Type 1   1996 non-null   object \n",
      " 35  BsmtFin SF 1     2050 non-null   float64\n",
      " 36  BsmtFin Type 2   1995 non-null   object \n",
      " 37  BsmtFin SF 2     2050 non-null   float64\n",
      " 38  Bsmt Unf SF      2050 non-null   float64\n",
      " 39  Total Bsmt SF    2050 non-null   float64\n",
      " 40  Heating          2051 non-null   object \n",
      " 41  Heating QC       2051 non-null   object \n",
      " 42  Central Air      2051 non-null   object \n",
      " 43  Electrical       2051 non-null   object \n",
      " 44  1st Flr SF       2051 non-null   int64  \n",
      " 45  2nd Flr SF       2051 non-null   int64  \n",
      " 46  Low Qual Fin SF  2051 non-null   int64  \n",
      " 47  Gr Liv Area      2051 non-null   int64  \n",
      " 48  Bsmt Full Bath   2049 non-null   float64\n",
      " 49  Bsmt Half Bath   2049 non-null   float64\n",
      " 50  Full Bath        2051 non-null   int64  \n",
      " 51  Half Bath        2051 non-null   int64  \n",
      " 52  Bedroom AbvGr    2051 non-null   int64  \n",
      " 53  Kitchen AbvGr    2051 non-null   int64  \n",
      " 54  Kitchen Qual     2051 non-null   object \n",
      " 55  TotRms AbvGrd    2051 non-null   int64  \n",
      " 56  Functional       2051 non-null   object \n",
      " 57  Fireplaces       2051 non-null   int64  \n",
      " 58  Fireplace Qu     1051 non-null   object \n",
      " 59  Garage Type      1938 non-null   object \n",
      " 60  Garage Yr Blt    1937 non-null   float64\n",
      " 61  Garage Finish    1937 non-null   object \n",
      " 62  Garage Cars      2050 non-null   float64\n",
      " 63  Garage Area      2050 non-null   float64\n",
      " 64  Garage Qual      1937 non-null   object \n",
      " 65  Garage Cond      1937 non-null   object \n",
      " 66  Paved Drive      2051 non-null   object \n",
      " 67  Wood Deck SF     2051 non-null   int64  \n",
      " 68  Open Porch SF    2051 non-null   int64  \n",
      " 69  Enclosed Porch   2051 non-null   int64  \n",
      " 70  3Ssn Porch       2051 non-null   int64  \n",
      " 71  Screen Porch     2051 non-null   int64  \n",
      " 72  Pool Area        2051 non-null   int64  \n",
      " 73  Pool QC          9 non-null      object \n",
      " 74  Fence            400 non-null    object \n",
      " 75  Misc Feature     65 non-null     object \n",
      " 76  Misc Val         2051 non-null   int64  \n",
      " 77  Mo Sold          2051 non-null   int64  \n",
      " 78  Yr Sold          2051 non-null   int64  \n",
      " 79  Sale Type        2051 non-null   object \n",
      " 80  SalePrice        2051 non-null   int64  \n",
      "dtypes: float64(11), int64(28), object(42)\n",
      "memory usage: 1.3+ MB\n"
     ]
    }
   ],
   "source": [
    "#Checking data types and missing values\n",
    "df.info()"
   ]
  },
  {
   "cell_type": "markdown",
   "id": "cffcee4e",
   "metadata": {},
   "source": [
    "### Total Rows: 2051, Total Columns: 80"
   ]
  },
  {
   "cell_type": "code",
   "execution_count": 5,
   "id": "a2afcac2",
   "metadata": {},
   "outputs": [
    {
     "data": {
      "text/plain": [
       "Id               0.000000\n",
       "PID              0.000000\n",
       "MS SubClass      0.000000\n",
       "MS Zoning        0.000000\n",
       "Lot Frontage    16.089712\n",
       "                  ...    \n",
       "Misc Val         0.000000\n",
       "Mo Sold          0.000000\n",
       "Yr Sold          0.000000\n",
       "Sale Type        0.000000\n",
       "SalePrice        0.000000\n",
       "Length: 81, dtype: float64"
      ]
     },
     "execution_count": 5,
     "metadata": {},
     "output_type": "execute_result"
    }
   ],
   "source": [
    "#Checking Missing values percentage\n",
    "((df.isnull().sum())/2051) * 100"
   ]
  },
  {
   "cell_type": "code",
   "execution_count": 6,
   "id": "98221d14",
   "metadata": {},
   "outputs": [
    {
     "data": {
      "text/html": [
       "<div>\n",
       "<style scoped>\n",
       "    .dataframe tbody tr th:only-of-type {\n",
       "        vertical-align: middle;\n",
       "    }\n",
       "\n",
       "    .dataframe tbody tr th {\n",
       "        vertical-align: top;\n",
       "    }\n",
       "\n",
       "    .dataframe thead th {\n",
       "        text-align: right;\n",
       "    }\n",
       "</style>\n",
       "<table border=\"1\" class=\"dataframe\">\n",
       "  <thead>\n",
       "    <tr style=\"text-align: right;\">\n",
       "      <th></th>\n",
       "      <th>id</th>\n",
       "      <th>pid</th>\n",
       "      <th>ms_subclass</th>\n",
       "      <th>ms_zoning</th>\n",
       "      <th>lot_frontage</th>\n",
       "      <th>lot_area</th>\n",
       "      <th>street</th>\n",
       "      <th>alley</th>\n",
       "      <th>lot_shape</th>\n",
       "      <th>land_contour</th>\n",
       "      <th>...</th>\n",
       "      <th>screen_porch</th>\n",
       "      <th>pool_area</th>\n",
       "      <th>pool_qc</th>\n",
       "      <th>fence</th>\n",
       "      <th>misc_feature</th>\n",
       "      <th>misc_val</th>\n",
       "      <th>mo_sold</th>\n",
       "      <th>yr_sold</th>\n",
       "      <th>sale_type</th>\n",
       "      <th>saleprice</th>\n",
       "    </tr>\n",
       "  </thead>\n",
       "  <tbody>\n",
       "    <tr>\n",
       "      <th>0</th>\n",
       "      <td>109</td>\n",
       "      <td>533352170</td>\n",
       "      <td>60</td>\n",
       "      <td>RL</td>\n",
       "      <td>NaN</td>\n",
       "      <td>13517</td>\n",
       "      <td>Pave</td>\n",
       "      <td>NaN</td>\n",
       "      <td>IR1</td>\n",
       "      <td>Lvl</td>\n",
       "      <td>...</td>\n",
       "      <td>0</td>\n",
       "      <td>0</td>\n",
       "      <td>NaN</td>\n",
       "      <td>NaN</td>\n",
       "      <td>NaN</td>\n",
       "      <td>0</td>\n",
       "      <td>3</td>\n",
       "      <td>2010</td>\n",
       "      <td>WD</td>\n",
       "      <td>130500</td>\n",
       "    </tr>\n",
       "    <tr>\n",
       "      <th>1</th>\n",
       "      <td>544</td>\n",
       "      <td>531379050</td>\n",
       "      <td>60</td>\n",
       "      <td>RL</td>\n",
       "      <td>43.0</td>\n",
       "      <td>11492</td>\n",
       "      <td>Pave</td>\n",
       "      <td>NaN</td>\n",
       "      <td>IR1</td>\n",
       "      <td>Lvl</td>\n",
       "      <td>...</td>\n",
       "      <td>0</td>\n",
       "      <td>0</td>\n",
       "      <td>NaN</td>\n",
       "      <td>NaN</td>\n",
       "      <td>NaN</td>\n",
       "      <td>0</td>\n",
       "      <td>4</td>\n",
       "      <td>2009</td>\n",
       "      <td>WD</td>\n",
       "      <td>220000</td>\n",
       "    </tr>\n",
       "  </tbody>\n",
       "</table>\n",
       "<p>2 rows × 81 columns</p>\n",
       "</div>"
      ],
      "text/plain": [
       "    id        pid  ms_subclass ms_zoning  lot_frontage  lot_area street alley  \\\n",
       "0  109  533352170           60        RL           NaN     13517   Pave   NaN   \n",
       "1  544  531379050           60        RL          43.0     11492   Pave   NaN   \n",
       "\n",
       "  lot_shape land_contour  ... screen_porch pool_area pool_qc fence  \\\n",
       "0       IR1          Lvl  ...            0         0     NaN   NaN   \n",
       "1       IR1          Lvl  ...            0         0     NaN   NaN   \n",
       "\n",
       "  misc_feature misc_val mo_sold yr_sold  sale_type  saleprice  \n",
       "0          NaN        0       3    2010        WD      130500  \n",
       "1          NaN        0       4    2009        WD      220000  \n",
       "\n",
       "[2 rows x 81 columns]"
      ]
     },
     "execution_count": 6,
     "metadata": {},
     "output_type": "execute_result"
    }
   ],
   "source": [
    "# Converting column names to lower case and snake case\n",
    "df.columns = df.columns.str.lower().str.replace(\" \", \"_\")\n",
    "df.head(2)"
   ]
  },
  {
   "cell_type": "code",
   "execution_count": 7,
   "id": "60d38952",
   "metadata": {},
   "outputs": [],
   "source": [
    "#Changing case of columns in test data\n",
    "df_test.columns = df_test.columns.str.lower().str.replace(\" \", \"_\")"
   ]
  },
  {
   "cell_type": "markdown",
   "id": "b1a597be",
   "metadata": {},
   "source": [
    "### Misc_feature, fence, pool_qc, fireplace_qu, alley columns have 48% or more missing values, dropping those columns"
   ]
  },
  {
   "cell_type": "code",
   "execution_count": 8,
   "id": "f693a192",
   "metadata": {},
   "outputs": [
    {
     "data": {
      "text/plain": [
       "id               0.000000\n",
       "pid              0.000000\n",
       "ms_subclass      0.000000\n",
       "ms_zoning        0.000000\n",
       "lot_frontage    16.089712\n",
       "                  ...    \n",
       "misc_val         0.000000\n",
       "mo_sold          0.000000\n",
       "yr_sold          0.000000\n",
       "sale_type        0.000000\n",
       "saleprice        0.000000\n",
       "Length: 76, dtype: float64"
      ]
     },
     "execution_count": 8,
     "metadata": {},
     "output_type": "execute_result"
    }
   ],
   "source": [
    "df.drop(columns = ['pool_qc', 'misc_feature', 'fence',\n",
    "                  'fireplace_qu', 'alley'], inplace = True)\n",
    "((df.isnull().sum())/2051) * 100"
   ]
  },
  {
   "cell_type": "code",
   "execution_count": 9,
   "id": "9fd3f714",
   "metadata": {},
   "outputs": [],
   "source": [
    "#Dropping Missing Values from Test Data\n",
    "df_test.drop(columns = ['pool_qc', 'misc_feature', 'fence','fireplace_qu', 'alley'], inplace = True)"
   ]
  },
  {
   "cell_type": "code",
   "execution_count": 10,
   "id": "03d3dc01",
   "metadata": {},
   "outputs": [
    {
     "data": {
      "text/plain": [
       "0.3418424837268713"
      ]
     },
     "execution_count": 10,
     "metadata": {},
     "output_type": "execute_result"
    }
   ],
   "source": [
    "# Examining the lot_frontage variable that has 16% missing values\n",
    "df['lot_frontage'].corr(df['saleprice'])"
   ]
  },
  {
   "cell_type": "code",
   "execution_count": 11,
   "id": "23227bba",
   "metadata": {},
   "outputs": [
    {
     "data": {
      "text/plain": [
       "count    1721.000000\n",
       "mean       69.055200\n",
       "std        23.260653\n",
       "min        21.000000\n",
       "25%        58.000000\n",
       "50%        68.000000\n",
       "75%        80.000000\n",
       "max       313.000000\n",
       "Name: lot_frontage, dtype: float64"
      ]
     },
     "execution_count": 11,
     "metadata": {},
     "output_type": "execute_result"
    }
   ],
   "source": [
    "df['lot_frontage'].describe()"
   ]
  },
  {
   "cell_type": "code",
   "execution_count": 12,
   "id": "cd72f671",
   "metadata": {},
   "outputs": [
    {
     "data": {
      "text/plain": [
       "330"
      ]
     },
     "execution_count": 12,
     "metadata": {},
     "output_type": "execute_result"
    }
   ],
   "source": [
    "df['lot_frontage'].isnull().sum()"
   ]
  },
  {
   "cell_type": "code",
   "execution_count": 13,
   "id": "c294b35f",
   "metadata": {},
   "outputs": [
    {
     "data": {
      "text/plain": [
       "68.0"
      ]
     },
     "execution_count": 13,
     "metadata": {},
     "output_type": "execute_result"
    }
   ],
   "source": [
    "df['lot_frontage'].median()"
   ]
  },
  {
   "cell_type": "code",
   "execution_count": 14,
   "id": "1aadacb5",
   "metadata": {},
   "outputs": [
    {
     "data": {
      "text/plain": [
       "0"
      ]
     },
     "execution_count": 14,
     "metadata": {},
     "output_type": "execute_result"
    }
   ],
   "source": [
    "#mean and median are similar, replacing with median as it has no \n",
    "#decimal\n",
    "df['lot_frontage'].fillna(df['lot_frontage'].median(), inplace = True)\n",
    "df['lot_frontage'].isnull().sum()"
   ]
  },
  {
   "cell_type": "code",
   "execution_count": 15,
   "id": "59e0c23c",
   "metadata": {},
   "outputs": [],
   "source": [
    "#Replacing all the missing values with interpolate method for num vars\n",
    "df1 = df.interpolate(method = 'linear', limit_direction = 'forward')"
   ]
  },
  {
   "cell_type": "markdown",
   "id": "e51cff13",
   "metadata": {},
   "source": [
    "- interpolate with linear method ignores the index and treats the variables as equally spaced"
   ]
  },
  {
   "cell_type": "code",
   "execution_count": 16,
   "id": "a775645a",
   "metadata": {},
   "outputs": [
    {
     "data": {
      "text/html": [
       "<div>\n",
       "<style scoped>\n",
       "    .dataframe tbody tr th:only-of-type {\n",
       "        vertical-align: middle;\n",
       "    }\n",
       "\n",
       "    .dataframe tbody tr th {\n",
       "        vertical-align: top;\n",
       "    }\n",
       "\n",
       "    .dataframe thead th {\n",
       "        text-align: right;\n",
       "    }\n",
       "</style>\n",
       "<table border=\"1\" class=\"dataframe\">\n",
       "  <thead>\n",
       "    <tr style=\"text-align: right;\">\n",
       "      <th></th>\n",
       "      <th>ms_zoning</th>\n",
       "      <th>street</th>\n",
       "      <th>lot_shape</th>\n",
       "      <th>land_contour</th>\n",
       "      <th>utilities</th>\n",
       "      <th>lot_config</th>\n",
       "      <th>land_slope</th>\n",
       "      <th>neighborhood</th>\n",
       "      <th>condition_1</th>\n",
       "      <th>condition_2</th>\n",
       "      <th>...</th>\n",
       "      <th>central_air</th>\n",
       "      <th>electrical</th>\n",
       "      <th>kitchen_qual</th>\n",
       "      <th>functional</th>\n",
       "      <th>garage_type</th>\n",
       "      <th>garage_finish</th>\n",
       "      <th>garage_qual</th>\n",
       "      <th>garage_cond</th>\n",
       "      <th>paved_drive</th>\n",
       "      <th>sale_type</th>\n",
       "    </tr>\n",
       "  </thead>\n",
       "  <tbody>\n",
       "    <tr>\n",
       "      <th>0</th>\n",
       "      <td>RL</td>\n",
       "      <td>Pave</td>\n",
       "      <td>IR1</td>\n",
       "      <td>Lvl</td>\n",
       "      <td>AllPub</td>\n",
       "      <td>CulDSac</td>\n",
       "      <td>Gtl</td>\n",
       "      <td>Sawyer</td>\n",
       "      <td>RRAe</td>\n",
       "      <td>Norm</td>\n",
       "      <td>...</td>\n",
       "      <td>Y</td>\n",
       "      <td>SBrkr</td>\n",
       "      <td>Gd</td>\n",
       "      <td>Typ</td>\n",
       "      <td>Attchd</td>\n",
       "      <td>RFn</td>\n",
       "      <td>TA</td>\n",
       "      <td>TA</td>\n",
       "      <td>Y</td>\n",
       "      <td>WD</td>\n",
       "    </tr>\n",
       "    <tr>\n",
       "      <th>1</th>\n",
       "      <td>RL</td>\n",
       "      <td>Pave</td>\n",
       "      <td>IR1</td>\n",
       "      <td>Lvl</td>\n",
       "      <td>AllPub</td>\n",
       "      <td>CulDSac</td>\n",
       "      <td>Gtl</td>\n",
       "      <td>SawyerW</td>\n",
       "      <td>Norm</td>\n",
       "      <td>Norm</td>\n",
       "      <td>...</td>\n",
       "      <td>Y</td>\n",
       "      <td>SBrkr</td>\n",
       "      <td>Gd</td>\n",
       "      <td>Typ</td>\n",
       "      <td>Attchd</td>\n",
       "      <td>RFn</td>\n",
       "      <td>TA</td>\n",
       "      <td>TA</td>\n",
       "      <td>Y</td>\n",
       "      <td>WD</td>\n",
       "    </tr>\n",
       "    <tr>\n",
       "      <th>2</th>\n",
       "      <td>RL</td>\n",
       "      <td>Pave</td>\n",
       "      <td>Reg</td>\n",
       "      <td>Lvl</td>\n",
       "      <td>AllPub</td>\n",
       "      <td>Inside</td>\n",
       "      <td>Gtl</td>\n",
       "      <td>NAmes</td>\n",
       "      <td>Norm</td>\n",
       "      <td>Norm</td>\n",
       "      <td>...</td>\n",
       "      <td>Y</td>\n",
       "      <td>SBrkr</td>\n",
       "      <td>Gd</td>\n",
       "      <td>Typ</td>\n",
       "      <td>Detchd</td>\n",
       "      <td>Unf</td>\n",
       "      <td>TA</td>\n",
       "      <td>TA</td>\n",
       "      <td>Y</td>\n",
       "      <td>WD</td>\n",
       "    </tr>\n",
       "    <tr>\n",
       "      <th>3</th>\n",
       "      <td>RL</td>\n",
       "      <td>Pave</td>\n",
       "      <td>Reg</td>\n",
       "      <td>Lvl</td>\n",
       "      <td>AllPub</td>\n",
       "      <td>Inside</td>\n",
       "      <td>Gtl</td>\n",
       "      <td>Timber</td>\n",
       "      <td>Norm</td>\n",
       "      <td>Norm</td>\n",
       "      <td>...</td>\n",
       "      <td>Y</td>\n",
       "      <td>SBrkr</td>\n",
       "      <td>TA</td>\n",
       "      <td>Typ</td>\n",
       "      <td>BuiltIn</td>\n",
       "      <td>Fin</td>\n",
       "      <td>TA</td>\n",
       "      <td>TA</td>\n",
       "      <td>Y</td>\n",
       "      <td>WD</td>\n",
       "    </tr>\n",
       "    <tr>\n",
       "      <th>4</th>\n",
       "      <td>RL</td>\n",
       "      <td>Pave</td>\n",
       "      <td>IR1</td>\n",
       "      <td>Lvl</td>\n",
       "      <td>AllPub</td>\n",
       "      <td>Inside</td>\n",
       "      <td>Gtl</td>\n",
       "      <td>SawyerW</td>\n",
       "      <td>Norm</td>\n",
       "      <td>Norm</td>\n",
       "      <td>...</td>\n",
       "      <td>Y</td>\n",
       "      <td>SBrkr</td>\n",
       "      <td>TA</td>\n",
       "      <td>Typ</td>\n",
       "      <td>Detchd</td>\n",
       "      <td>Unf</td>\n",
       "      <td>TA</td>\n",
       "      <td>TA</td>\n",
       "      <td>N</td>\n",
       "      <td>WD</td>\n",
       "    </tr>\n",
       "  </tbody>\n",
       "</table>\n",
       "<p>5 rows × 37 columns</p>\n",
       "</div>"
      ],
      "text/plain": [
       "  ms_zoning street lot_shape land_contour utilities lot_config land_slope  \\\n",
       "0        RL   Pave       IR1          Lvl    AllPub    CulDSac        Gtl   \n",
       "1        RL   Pave       IR1          Lvl    AllPub    CulDSac        Gtl   \n",
       "2        RL   Pave       Reg          Lvl    AllPub     Inside        Gtl   \n",
       "3        RL   Pave       Reg          Lvl    AllPub     Inside        Gtl   \n",
       "4        RL   Pave       IR1          Lvl    AllPub     Inside        Gtl   \n",
       "\n",
       "  neighborhood condition_1 condition_2  ... central_air electrical  \\\n",
       "0       Sawyer        RRAe        Norm  ...           Y      SBrkr   \n",
       "1      SawyerW        Norm        Norm  ...           Y      SBrkr   \n",
       "2        NAmes        Norm        Norm  ...           Y      SBrkr   \n",
       "3       Timber        Norm        Norm  ...           Y      SBrkr   \n",
       "4      SawyerW        Norm        Norm  ...           Y      SBrkr   \n",
       "\n",
       "  kitchen_qual functional garage_type garage_finish garage_qual garage_cond  \\\n",
       "0           Gd        Typ      Attchd           RFn          TA          TA   \n",
       "1           Gd        Typ      Attchd           RFn          TA          TA   \n",
       "2           Gd        Typ      Detchd           Unf          TA          TA   \n",
       "3           TA        Typ     BuiltIn           Fin          TA          TA   \n",
       "4           TA        Typ      Detchd           Unf          TA          TA   \n",
       "\n",
       "  paved_drive sale_type  \n",
       "0           Y       WD   \n",
       "1           Y       WD   \n",
       "2           Y       WD   \n",
       "3           Y       WD   \n",
       "4           N       WD   \n",
       "\n",
       "[5 rows x 37 columns]"
      ]
     },
     "execution_count": 16,
     "metadata": {},
     "output_type": "execute_result"
    }
   ],
   "source": [
    "#separating data with categorical and numeric vars\n",
    "cat_data = df.select_dtypes('object')\n",
    "cat_data.head()"
   ]
  },
  {
   "cell_type": "code",
   "execution_count": 17,
   "id": "6075e9f7",
   "metadata": {},
   "outputs": [
    {
     "data": {
      "text/plain": [
       "ms_zoning           0\n",
       "street              0\n",
       "lot_shape           0\n",
       "land_contour        0\n",
       "utilities           0\n",
       "lot_config          0\n",
       "land_slope          0\n",
       "neighborhood        0\n",
       "condition_1         0\n",
       "condition_2         0\n",
       "bldg_type           0\n",
       "house_style         0\n",
       "roof_style          0\n",
       "roof_matl           0\n",
       "exterior_1st        0\n",
       "exterior_2nd        0\n",
       "mas_vnr_type       22\n",
       "exter_qual          0\n",
       "exter_cond          0\n",
       "foundation          0\n",
       "bsmt_qual          55\n",
       "bsmt_cond          55\n",
       "bsmt_exposure      58\n",
       "bsmtfin_type_1     55\n",
       "bsmtfin_type_2     56\n",
       "heating             0\n",
       "heating_qc          0\n",
       "central_air         0\n",
       "electrical          0\n",
       "kitchen_qual        0\n",
       "functional          0\n",
       "garage_type       113\n",
       "garage_finish     114\n",
       "garage_qual       114\n",
       "garage_cond       114\n",
       "paved_drive         0\n",
       "sale_type           0\n",
       "dtype: int64"
      ]
     },
     "execution_count": 17,
     "metadata": {},
     "output_type": "execute_result"
    }
   ],
   "source": [
    "cat_data.isnull().sum()"
   ]
  },
  {
   "cell_type": "code",
   "execution_count": 18,
   "id": "c8a91c4b",
   "metadata": {},
   "outputs": [
    {
     "data": {
      "text/html": [
       "<div>\n",
       "<style scoped>\n",
       "    .dataframe tbody tr th:only-of-type {\n",
       "        vertical-align: middle;\n",
       "    }\n",
       "\n",
       "    .dataframe tbody tr th {\n",
       "        vertical-align: top;\n",
       "    }\n",
       "\n",
       "    .dataframe thead th {\n",
       "        text-align: right;\n",
       "    }\n",
       "</style>\n",
       "<table border=\"1\" class=\"dataframe\">\n",
       "  <thead>\n",
       "    <tr style=\"text-align: right;\">\n",
       "      <th></th>\n",
       "      <th>ms_subclass</th>\n",
       "      <th>lot_frontage</th>\n",
       "      <th>lot_area</th>\n",
       "      <th>overall_qual</th>\n",
       "      <th>overall_cond</th>\n",
       "      <th>year_built</th>\n",
       "      <th>year_remod/add</th>\n",
       "      <th>mas_vnr_area</th>\n",
       "      <th>bsmtfin_sf_1</th>\n",
       "      <th>bsmtfin_sf_2</th>\n",
       "      <th>...</th>\n",
       "      <th>wood_deck_sf</th>\n",
       "      <th>open_porch_sf</th>\n",
       "      <th>enclosed_porch</th>\n",
       "      <th>3ssn_porch</th>\n",
       "      <th>screen_porch</th>\n",
       "      <th>pool_area</th>\n",
       "      <th>misc_val</th>\n",
       "      <th>mo_sold</th>\n",
       "      <th>yr_sold</th>\n",
       "      <th>saleprice</th>\n",
       "    </tr>\n",
       "  </thead>\n",
       "  <tbody>\n",
       "    <tr>\n",
       "      <th>0</th>\n",
       "      <td>60</td>\n",
       "      <td>68.0</td>\n",
       "      <td>13517</td>\n",
       "      <td>6</td>\n",
       "      <td>8</td>\n",
       "      <td>1976</td>\n",
       "      <td>2005</td>\n",
       "      <td>289.0</td>\n",
       "      <td>533.0</td>\n",
       "      <td>0.0</td>\n",
       "      <td>...</td>\n",
       "      <td>0</td>\n",
       "      <td>44</td>\n",
       "      <td>0</td>\n",
       "      <td>0</td>\n",
       "      <td>0</td>\n",
       "      <td>0</td>\n",
       "      <td>0</td>\n",
       "      <td>3</td>\n",
       "      <td>2010</td>\n",
       "      <td>130500</td>\n",
       "    </tr>\n",
       "    <tr>\n",
       "      <th>1</th>\n",
       "      <td>60</td>\n",
       "      <td>43.0</td>\n",
       "      <td>11492</td>\n",
       "      <td>7</td>\n",
       "      <td>5</td>\n",
       "      <td>1996</td>\n",
       "      <td>1997</td>\n",
       "      <td>132.0</td>\n",
       "      <td>637.0</td>\n",
       "      <td>0.0</td>\n",
       "      <td>...</td>\n",
       "      <td>0</td>\n",
       "      <td>74</td>\n",
       "      <td>0</td>\n",
       "      <td>0</td>\n",
       "      <td>0</td>\n",
       "      <td>0</td>\n",
       "      <td>0</td>\n",
       "      <td>4</td>\n",
       "      <td>2009</td>\n",
       "      <td>220000</td>\n",
       "    </tr>\n",
       "    <tr>\n",
       "      <th>2</th>\n",
       "      <td>20</td>\n",
       "      <td>68.0</td>\n",
       "      <td>7922</td>\n",
       "      <td>5</td>\n",
       "      <td>7</td>\n",
       "      <td>1953</td>\n",
       "      <td>2007</td>\n",
       "      <td>0.0</td>\n",
       "      <td>731.0</td>\n",
       "      <td>0.0</td>\n",
       "      <td>...</td>\n",
       "      <td>0</td>\n",
       "      <td>52</td>\n",
       "      <td>0</td>\n",
       "      <td>0</td>\n",
       "      <td>0</td>\n",
       "      <td>0</td>\n",
       "      <td>0</td>\n",
       "      <td>1</td>\n",
       "      <td>2010</td>\n",
       "      <td>109000</td>\n",
       "    </tr>\n",
       "    <tr>\n",
       "      <th>3</th>\n",
       "      <td>60</td>\n",
       "      <td>73.0</td>\n",
       "      <td>9802</td>\n",
       "      <td>5</td>\n",
       "      <td>5</td>\n",
       "      <td>2006</td>\n",
       "      <td>2007</td>\n",
       "      <td>0.0</td>\n",
       "      <td>0.0</td>\n",
       "      <td>0.0</td>\n",
       "      <td>...</td>\n",
       "      <td>100</td>\n",
       "      <td>0</td>\n",
       "      <td>0</td>\n",
       "      <td>0</td>\n",
       "      <td>0</td>\n",
       "      <td>0</td>\n",
       "      <td>0</td>\n",
       "      <td>4</td>\n",
       "      <td>2010</td>\n",
       "      <td>174000</td>\n",
       "    </tr>\n",
       "    <tr>\n",
       "      <th>4</th>\n",
       "      <td>50</td>\n",
       "      <td>82.0</td>\n",
       "      <td>14235</td>\n",
       "      <td>6</td>\n",
       "      <td>8</td>\n",
       "      <td>1900</td>\n",
       "      <td>1993</td>\n",
       "      <td>0.0</td>\n",
       "      <td>0.0</td>\n",
       "      <td>0.0</td>\n",
       "      <td>...</td>\n",
       "      <td>0</td>\n",
       "      <td>59</td>\n",
       "      <td>0</td>\n",
       "      <td>0</td>\n",
       "      <td>0</td>\n",
       "      <td>0</td>\n",
       "      <td>0</td>\n",
       "      <td>3</td>\n",
       "      <td>2010</td>\n",
       "      <td>138500</td>\n",
       "    </tr>\n",
       "  </tbody>\n",
       "</table>\n",
       "<p>5 rows × 37 columns</p>\n",
       "</div>"
      ],
      "text/plain": [
       "   ms_subclass  lot_frontage  lot_area  overall_qual  overall_cond  \\\n",
       "0           60          68.0     13517             6             8   \n",
       "1           60          43.0     11492             7             5   \n",
       "2           20          68.0      7922             5             7   \n",
       "3           60          73.0      9802             5             5   \n",
       "4           50          82.0     14235             6             8   \n",
       "\n",
       "   year_built  year_remod/add  mas_vnr_area  bsmtfin_sf_1  bsmtfin_sf_2  ...  \\\n",
       "0        1976            2005         289.0         533.0           0.0  ...   \n",
       "1        1996            1997         132.0         637.0           0.0  ...   \n",
       "2        1953            2007           0.0         731.0           0.0  ...   \n",
       "3        2006            2007           0.0           0.0           0.0  ...   \n",
       "4        1900            1993           0.0           0.0           0.0  ...   \n",
       "\n",
       "   wood_deck_sf  open_porch_sf  enclosed_porch  3ssn_porch  screen_porch  \\\n",
       "0             0             44               0           0             0   \n",
       "1             0             74               0           0             0   \n",
       "2             0             52               0           0             0   \n",
       "3           100              0               0           0             0   \n",
       "4             0             59               0           0             0   \n",
       "\n",
       "   pool_area  misc_val  mo_sold  yr_sold  saleprice  \n",
       "0          0         0        3     2010     130500  \n",
       "1          0         0        4     2009     220000  \n",
       "2          0         0        1     2010     109000  \n",
       "3          0         0        4     2010     174000  \n",
       "4          0         0        3     2010     138500  \n",
       "\n",
       "[5 rows x 37 columns]"
      ]
     },
     "execution_count": 18,
     "metadata": {},
     "output_type": "execute_result"
    }
   ],
   "source": [
    "num_data = df1.select_dtypes('number').drop(columns = \n",
    "                                            ['id', 'pid'], axis = 1)\n",
    "num_data.head()"
   ]
  },
  {
   "cell_type": "code",
   "execution_count": 19,
   "id": "de9954a5",
   "metadata": {},
   "outputs": [],
   "source": [
    "#Replacing missing values with most frequently occuring type None\n",
    "cat_data['mas_vnr_type'].fillna('None', inplace = True)"
   ]
  },
  {
   "cell_type": "code",
   "execution_count": 20,
   "id": "a68cf2f9",
   "metadata": {},
   "outputs": [
    {
     "data": {
      "text/plain": [
       "None       1240\n",
       "BrkFace     630\n",
       "Stone       168\n",
       "BrkCmn       13\n",
       "Name: mas_vnr_type, dtype: int64"
      ]
     },
     "execution_count": 20,
     "metadata": {},
     "output_type": "execute_result"
    }
   ],
   "source": [
    "cat_data['mas_vnr_type'].value_counts()"
   ]
  },
  {
   "cell_type": "code",
   "execution_count": 21,
   "id": "3fd84ffe",
   "metadata": {},
   "outputs": [
    {
     "data": {
      "text/plain": [
       "TA    887\n",
       "Gd    864\n",
       "Ex    184\n",
       "Fa     60\n",
       "Po      1\n",
       "Name: bsmt_qual, dtype: int64"
      ]
     },
     "execution_count": 21,
     "metadata": {},
     "output_type": "execute_result"
    }
   ],
   "source": [
    "cat_data['bsmt_qual'].value_counts()"
   ]
  },
  {
   "cell_type": "code",
   "execution_count": 22,
   "id": "2df166da",
   "metadata": {},
   "outputs": [],
   "source": [
    "#Replacing missing values with 'TA'\n",
    "cat_data['bsmt_qual'].fillna(\"TA\", inplace = True)"
   ]
  },
  {
   "cell_type": "code",
   "execution_count": 23,
   "id": "16a6fc61",
   "metadata": {},
   "outputs": [
    {
     "data": {
      "text/plain": [
       "TA    942\n",
       "Gd    864\n",
       "Ex    184\n",
       "Fa     60\n",
       "Po      1\n",
       "Name: bsmt_qual, dtype: int64"
      ]
     },
     "execution_count": 23,
     "metadata": {},
     "output_type": "execute_result"
    }
   ],
   "source": [
    "cat_data['bsmt_qual'].value_counts()"
   ]
  },
  {
   "cell_type": "code",
   "execution_count": 24,
   "id": "c45e395b",
   "metadata": {},
   "outputs": [],
   "source": [
    "#Replacing missing values with frequently occuring \"TA\"\n",
    "cat_data['bsmt_cond'].fillna('TA', inplace = True)"
   ]
  },
  {
   "cell_type": "code",
   "execution_count": 25,
   "id": "5b714e30",
   "metadata": {},
   "outputs": [
    {
     "data": {
      "text/plain": [
       "TA    1889\n",
       "Gd      89\n",
       "Fa      65\n",
       "Po       5\n",
       "Ex       3\n",
       "Name: bsmt_cond, dtype: int64"
      ]
     },
     "execution_count": 25,
     "metadata": {},
     "output_type": "execute_result"
    }
   ],
   "source": [
    "cat_data['bsmt_cond'].value_counts()"
   ]
  },
  {
   "cell_type": "code",
   "execution_count": 26,
   "id": "7861e6b8",
   "metadata": {},
   "outputs": [],
   "source": [
    "#Replacing missing values with frequently occuring \"No\"\n",
    "cat_data['bsmt_exposure'].fillna('No', inplace = True)"
   ]
  },
  {
   "cell_type": "code",
   "execution_count": 27,
   "id": "387c4b95",
   "metadata": {},
   "outputs": [],
   "source": [
    "#Replacing missing values with frequently occuring \"GLQ\"\n",
    "cat_data['bsmtfin_type_1'].fillna(\"GLQ\", inplace = True)"
   ]
  },
  {
   "cell_type": "code",
   "execution_count": 28,
   "id": "46429483",
   "metadata": {},
   "outputs": [],
   "source": [
    "#Replacing missing values with frequently occuring \"Unf\"\n",
    "cat_data['bsmtfin_type_2'].fillna('Unf', inplace = True)"
   ]
  },
  {
   "cell_type": "code",
   "execution_count": 29,
   "id": "ade1cdc9",
   "metadata": {},
   "outputs": [],
   "source": [
    "#Replacing missing values with frequently occuring \"Attchd\"\n",
    "cat_data['garage_type'].fillna('\"Attchd\"', inplace = True)"
   ]
  },
  {
   "cell_type": "code",
   "execution_count": 30,
   "id": "30fb6c74",
   "metadata": {},
   "outputs": [],
   "source": [
    "#Replacing missing values with frequently occuring \"Unf\"\n",
    "cat_data['garage_finish'].fillna(\"Unf\", inplace = True)"
   ]
  },
  {
   "cell_type": "code",
   "execution_count": 31,
   "id": "e5166aab",
   "metadata": {},
   "outputs": [],
   "source": [
    "#Replacing missing values with frequently occuring \"TA\"\n",
    "cat_data['garage_qual'].fillna(\"TA\", inplace = True)"
   ]
  },
  {
   "cell_type": "code",
   "execution_count": 32,
   "id": "4c7e6ea3",
   "metadata": {},
   "outputs": [],
   "source": [
    "#Replacing missing values with frequently occuring \"TA\"\n",
    "cat_data['garage_cond'].fillna(\"TA\", inplace = True)"
   ]
  },
  {
   "cell_type": "code",
   "execution_count": 33,
   "id": "5e71de0b",
   "metadata": {},
   "outputs": [
    {
     "data": {
      "text/plain": [
       "ms_zoning         0\n",
       "street            0\n",
       "lot_shape         0\n",
       "land_contour      0\n",
       "utilities         0\n",
       "lot_config        0\n",
       "land_slope        0\n",
       "neighborhood      0\n",
       "condition_1       0\n",
       "condition_2       0\n",
       "bldg_type         0\n",
       "house_style       0\n",
       "roof_style        0\n",
       "roof_matl         0\n",
       "exterior_1st      0\n",
       "exterior_2nd      0\n",
       "mas_vnr_type      0\n",
       "exter_qual        0\n",
       "exter_cond        0\n",
       "foundation        0\n",
       "bsmt_qual         0\n",
       "bsmt_cond         0\n",
       "bsmt_exposure     0\n",
       "bsmtfin_type_1    0\n",
       "bsmtfin_type_2    0\n",
       "heating           0\n",
       "heating_qc        0\n",
       "central_air       0\n",
       "electrical        0\n",
       "kitchen_qual      0\n",
       "functional        0\n",
       "garage_type       0\n",
       "garage_finish     0\n",
       "garage_qual       0\n",
       "garage_cond       0\n",
       "paved_drive       0\n",
       "sale_type         0\n",
       "dtype: int64"
      ]
     },
     "execution_count": 33,
     "metadata": {},
     "output_type": "execute_result"
    }
   ],
   "source": [
    "cat_data.isnull().sum()"
   ]
  },
  {
   "cell_type": "code",
   "execution_count": 34,
   "id": "fd3c5d43",
   "metadata": {},
   "outputs": [
    {
     "data": {
      "text/html": [
       "<div>\n",
       "<style scoped>\n",
       "    .dataframe tbody tr th:only-of-type {\n",
       "        vertical-align: middle;\n",
       "    }\n",
       "\n",
       "    .dataframe tbody tr th {\n",
       "        vertical-align: top;\n",
       "    }\n",
       "\n",
       "    .dataframe thead th {\n",
       "        text-align: right;\n",
       "    }\n",
       "</style>\n",
       "<table border=\"1\" class=\"dataframe\">\n",
       "  <thead>\n",
       "    <tr style=\"text-align: right;\">\n",
       "      <th></th>\n",
       "      <th>id</th>\n",
       "      <th>pid</th>\n",
       "      <th>ms_subclass</th>\n",
       "      <th>lot_frontage</th>\n",
       "      <th>lot_area</th>\n",
       "      <th>overall_qual</th>\n",
       "      <th>overall_cond</th>\n",
       "      <th>year_built</th>\n",
       "      <th>year_remod/add</th>\n",
       "      <th>mas_vnr_area</th>\n",
       "      <th>...</th>\n",
       "      <th>central_air</th>\n",
       "      <th>electrical</th>\n",
       "      <th>kitchen_qual</th>\n",
       "      <th>functional</th>\n",
       "      <th>garage_type</th>\n",
       "      <th>garage_finish</th>\n",
       "      <th>garage_qual</th>\n",
       "      <th>garage_cond</th>\n",
       "      <th>paved_drive</th>\n",
       "      <th>sale_type</th>\n",
       "    </tr>\n",
       "  </thead>\n",
       "  <tbody>\n",
       "    <tr>\n",
       "      <th>0</th>\n",
       "      <td>109</td>\n",
       "      <td>533352170</td>\n",
       "      <td>60</td>\n",
       "      <td>68.0</td>\n",
       "      <td>13517</td>\n",
       "      <td>6</td>\n",
       "      <td>8</td>\n",
       "      <td>1976</td>\n",
       "      <td>2005</td>\n",
       "      <td>289.0</td>\n",
       "      <td>...</td>\n",
       "      <td>Y</td>\n",
       "      <td>SBrkr</td>\n",
       "      <td>Gd</td>\n",
       "      <td>Typ</td>\n",
       "      <td>Attchd</td>\n",
       "      <td>RFn</td>\n",
       "      <td>TA</td>\n",
       "      <td>TA</td>\n",
       "      <td>Y</td>\n",
       "      <td>WD</td>\n",
       "    </tr>\n",
       "    <tr>\n",
       "      <th>1</th>\n",
       "      <td>544</td>\n",
       "      <td>531379050</td>\n",
       "      <td>60</td>\n",
       "      <td>43.0</td>\n",
       "      <td>11492</td>\n",
       "      <td>7</td>\n",
       "      <td>5</td>\n",
       "      <td>1996</td>\n",
       "      <td>1997</td>\n",
       "      <td>132.0</td>\n",
       "      <td>...</td>\n",
       "      <td>Y</td>\n",
       "      <td>SBrkr</td>\n",
       "      <td>Gd</td>\n",
       "      <td>Typ</td>\n",
       "      <td>Attchd</td>\n",
       "      <td>RFn</td>\n",
       "      <td>TA</td>\n",
       "      <td>TA</td>\n",
       "      <td>Y</td>\n",
       "      <td>WD</td>\n",
       "    </tr>\n",
       "  </tbody>\n",
       "</table>\n",
       "<p>2 rows × 76 columns</p>\n",
       "</div>"
      ],
      "text/plain": [
       "    id        pid  ms_subclass  lot_frontage  lot_area  overall_qual  \\\n",
       "0  109  533352170           60          68.0     13517             6   \n",
       "1  544  531379050           60          43.0     11492             7   \n",
       "\n",
       "   overall_cond  year_built  year_remod/add  mas_vnr_area  ...  central_air  \\\n",
       "0             8        1976            2005         289.0  ...            Y   \n",
       "1             5        1996            1997         132.0  ...            Y   \n",
       "\n",
       "   electrical  kitchen_qual  functional  garage_type  garage_finish  \\\n",
       "0       SBrkr            Gd         Typ       Attchd            RFn   \n",
       "1       SBrkr            Gd         Typ       Attchd            RFn   \n",
       "\n",
       "   garage_qual  garage_cond  paved_drive  sale_type  \n",
       "0           TA           TA            Y        WD   \n",
       "1           TA           TA            Y        WD   \n",
       "\n",
       "[2 rows x 76 columns]"
      ]
     },
     "execution_count": 34,
     "metadata": {},
     "output_type": "execute_result"
    }
   ],
   "source": [
    "no_missing_df = pd.concat([df[['id', 'pid']],num_data, cat_data], axis = 1)\n",
    "no_missing_df.head(2)"
   ]
  },
  {
   "cell_type": "code",
   "execution_count": 35,
   "id": "dc9b5aaf",
   "metadata": {},
   "outputs": [
    {
     "data": {
      "text/plain": [
       "id                   0\n",
       "pid                  0\n",
       "ms_subclass          0\n",
       "lot_frontage       160\n",
       "lot_area             0\n",
       "overall_qual         0\n",
       "overall_cond         0\n",
       "year_built           0\n",
       "year_remod/add       0\n",
       "mas_vnr_area         1\n",
       "bsmtfin_sf_1         0\n",
       "bsmtfin_sf_2         0\n",
       "bsmt_unf_sf          0\n",
       "total_bsmt_sf        0\n",
       "1st_flr_sf           0\n",
       "2nd_flr_sf           0\n",
       "low_qual_fin_sf      0\n",
       "gr_liv_area          0\n",
       "bsmt_full_bath       0\n",
       "bsmt_half_bath       0\n",
       "full_bath            0\n",
       "half_bath            0\n",
       "bedroom_abvgr        0\n",
       "kitchen_abvgr        0\n",
       "totrms_abvgrd        0\n",
       "fireplaces           0\n",
       "garage_yr_blt       45\n",
       "garage_cars          0\n",
       "garage_area          0\n",
       "wood_deck_sf         0\n",
       "open_porch_sf        0\n",
       "enclosed_porch       0\n",
       "3ssn_porch           0\n",
       "screen_porch         0\n",
       "pool_area            0\n",
       "misc_val             0\n",
       "mo_sold              0\n",
       "yr_sold              0\n",
       "dtype: int64"
      ]
     },
     "execution_count": 35,
     "metadata": {},
     "output_type": "execute_result"
    }
   ],
   "source": [
    "#Missing data in test numerical data\n",
    "df_test.select_dtypes('number').isnull().sum()"
   ]
  },
  {
   "cell_type": "code",
   "execution_count": 36,
   "id": "88901955",
   "metadata": {},
   "outputs": [
    {
     "data": {
      "text/plain": [
       "68.0"
      ]
     },
     "execution_count": 36,
     "metadata": {},
     "output_type": "execute_result"
    }
   ],
   "source": [
    "df['lot_frontage'].median()"
   ]
  },
  {
   "cell_type": "code",
   "execution_count": 37,
   "id": "73225f16",
   "metadata": {},
   "outputs": [],
   "source": [
    "#Replacing null values in test data with median train data to avoid \n",
    "#data leakage\n",
    "df_test['lot_frontage'].fillna(68, inplace = True)"
   ]
  },
  {
   "cell_type": "code",
   "execution_count": 38,
   "id": "257b97b6",
   "metadata": {},
   "outputs": [
    {
     "data": {
      "text/plain": [
       "99.69590931493346"
      ]
     },
     "execution_count": 38,
     "metadata": {},
     "output_type": "execute_result"
    }
   ],
   "source": [
    "df['mas_vnr_area'].mean()"
   ]
  },
  {
   "cell_type": "code",
   "execution_count": 39,
   "id": "94c32c5f",
   "metadata": {},
   "outputs": [],
   "source": [
    "#replacing missing values in test data with mean train data\n",
    "df_test['mas_vnr_area'].fillna(df['mas_vnr_area'].mean, inplace = True)"
   ]
  },
  {
   "cell_type": "code",
   "execution_count": 40,
   "id": "e23ab59a",
   "metadata": {},
   "outputs": [
    {
     "data": {
      "text/plain": [
       "garage_finish    45\n",
       "garage_qual      45\n",
       "garage_cond      45\n",
       "paved_drive       0\n",
       "sale_type         0\n",
       "dtype: int64"
      ]
     },
     "execution_count": 40,
     "metadata": {},
     "output_type": "execute_result"
    }
   ],
   "source": [
    "df_test.select_dtypes('object').isnull().sum().tail()"
   ]
  },
  {
   "cell_type": "code",
   "execution_count": 41,
   "id": "3f6e163f",
   "metadata": {},
   "outputs": [
    {
     "data": {
      "text/plain": [
       "None       1240\n",
       "BrkFace     630\n",
       "Stone       168\n",
       "BrkCmn       13\n",
       "Name: mas_vnr_type, dtype: int64"
      ]
     },
     "execution_count": 41,
     "metadata": {},
     "output_type": "execute_result"
    }
   ],
   "source": [
    "cat_data['mas_vnr_type'].value_counts()"
   ]
  },
  {
   "cell_type": "code",
   "execution_count": 42,
   "id": "54aebbae",
   "metadata": {},
   "outputs": [],
   "source": [
    "#Replacing missing values in test with frequent values from train data\n",
    "df_test['garage_type'].fillna(\"Attchd\", inplace = True)"
   ]
  },
  {
   "cell_type": "code",
   "execution_count": 43,
   "id": "7643ce73",
   "metadata": {},
   "outputs": [],
   "source": [
    "df_test['garage_finish'].fillna(\"Unf\", inplace = True)"
   ]
  },
  {
   "cell_type": "code",
   "execution_count": 44,
   "id": "4567bbe1",
   "metadata": {},
   "outputs": [],
   "source": [
    "df_test['garage_qual'].fillna(\"TA\", inplace = True)"
   ]
  },
  {
   "cell_type": "code",
   "execution_count": 45,
   "id": "9b206155",
   "metadata": {},
   "outputs": [],
   "source": [
    "df_test['garage_cond'].fillna(\"TA\", inplace = True)"
   ]
  },
  {
   "cell_type": "code",
   "execution_count": 46,
   "id": "0dc31c0d",
   "metadata": {},
   "outputs": [],
   "source": [
    "df_test['bsmt_qual'].fillna(\"TA\", inplace = True)"
   ]
  },
  {
   "cell_type": "code",
   "execution_count": 47,
   "id": "4227748a",
   "metadata": {},
   "outputs": [],
   "source": [
    "df_test['bsmt_cond'].fillna(\"TA\", inplace = True)"
   ]
  },
  {
   "cell_type": "code",
   "execution_count": 48,
   "id": "85064e3b",
   "metadata": {},
   "outputs": [],
   "source": [
    "df_test['bsmt_exposure'].fillna(\"No\", inplace = True)"
   ]
  },
  {
   "cell_type": "code",
   "execution_count": 49,
   "id": "49c14f11",
   "metadata": {},
   "outputs": [],
   "source": [
    "df_test['bsmtfin_type_1'].fillna(\"GLQ\", inplace = True)"
   ]
  },
  {
   "cell_type": "code",
   "execution_count": 50,
   "id": "c3351a41",
   "metadata": {},
   "outputs": [],
   "source": [
    "df_test['bsmtfin_type_2'].fillna(\"Unf\", inplace = True)"
   ]
  },
  {
   "cell_type": "code",
   "execution_count": 51,
   "id": "a5f3c940",
   "metadata": {},
   "outputs": [],
   "source": [
    "df_test['mas_vnr_type'].fillna(\"None\", inplace = True)"
   ]
  },
  {
   "cell_type": "code",
   "execution_count": 52,
   "id": "c2410378",
   "metadata": {},
   "outputs": [],
   "source": [
    "df_test['kitchen_qual'] = np.where(df_test['kitchen_qual'] == \n",
    "                                   'Po', 'TA', df_test['kitchen_qual'])"
   ]
  },
  {
   "cell_type": "code",
   "execution_count": 53,
   "id": "afb89c42",
   "metadata": {},
   "outputs": [
    {
     "data": {
      "text/plain": [
       "id              0\n",
       "pid             0\n",
       "ms_subclass     0\n",
       "ms_zoning       0\n",
       "lot_frontage    0\n",
       "               ..\n",
       "pool_area       0\n",
       "misc_val        0\n",
       "mo_sold         0\n",
       "yr_sold         0\n",
       "sale_type       0\n",
       "Length: 75, dtype: int64"
      ]
     },
     "execution_count": 53,
     "metadata": {},
     "output_type": "execute_result"
    }
   ],
   "source": [
    "df_test.isnull().sum()"
   ]
  },
  {
   "cell_type": "code",
   "execution_count": 54,
   "id": "b53c5056",
   "metadata": {},
   "outputs": [],
   "source": [
    "no_missing_df.to_csv('./datasets/cleaned.csv')"
   ]
  },
  {
   "cell_type": "code",
   "execution_count": 55,
   "id": "095ec25f",
   "metadata": {},
   "outputs": [],
   "source": [
    "#Writing the Data to csv to use this for data exploration\n",
    "df_test.to_csv('./datasets/cleaned_test.csv')"
   ]
  }
 ],
 "metadata": {
  "kernelspec": {
   "display_name": "Python 3 (ipykernel)",
   "language": "python",
   "name": "python3"
  },
  "language_info": {
   "codemirror_mode": {
    "name": "ipython",
    "version": 3
   },
   "file_extension": ".py",
   "mimetype": "text/x-python",
   "name": "python",
   "nbconvert_exporter": "python",
   "pygments_lexer": "ipython3",
   "version": "3.9.13"
  }
 },
 "nbformat": 4,
 "nbformat_minor": 5
}
