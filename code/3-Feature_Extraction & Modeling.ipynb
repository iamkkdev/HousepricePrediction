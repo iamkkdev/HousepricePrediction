{
 "cells": [
  {
   "cell_type": "code",
   "execution_count": 1,
   "id": "d569542a",
   "metadata": {},
   "outputs": [],
   "source": [
    "## Imports\n",
    "import pandas as pd\n",
    "\n",
    "from sklearn.linear_model import LinearRegression\n",
    "from sklearn.model_selection import cross_val_score, train_test_split\n",
    "from sklearn import metrics\n",
    "from sklearn.preprocessing import StandardScaler, PolynomialFeatures\n",
    "from sklearn.preprocessing import OneHotEncoder, OrdinalEncoder\n",
    "from sklearn.compose import make_column_transformer\n",
    "import statsmodels.api as sm\n",
    "from sklearn.dummy import DummyRegressor\n",
    "from sklearn.metrics import mean_absolute_error\n",
    "from sklearn.metrics import mean_squared_error, r2_score\n",
    "from sklearn.pipeline import make_pipeline\n",
    "\n",
    "import warnings \n",
    "warnings.filterwarnings(\"ignore\")"
   ]
  },
  {
   "cell_type": "code",
   "execution_count": 2,
   "id": "5438552c",
   "metadata": {},
   "outputs": [
    {
     "data": {
      "text/html": [
       "<div>\n",
       "<style scoped>\n",
       "    .dataframe tbody tr th:only-of-type {\n",
       "        vertical-align: middle;\n",
       "    }\n",
       "\n",
       "    .dataframe tbody tr th {\n",
       "        vertical-align: top;\n",
       "    }\n",
       "\n",
       "    .dataframe thead th {\n",
       "        text-align: right;\n",
       "    }\n",
       "</style>\n",
       "<table border=\"1\" class=\"dataframe\">\n",
       "  <thead>\n",
       "    <tr style=\"text-align: right;\">\n",
       "      <th></th>\n",
       "      <th>ms_subclass</th>\n",
       "      <th>lot_frontage</th>\n",
       "      <th>lot_area</th>\n",
       "      <th>overall_qual</th>\n",
       "      <th>overall_cond</th>\n",
       "      <th>year_built</th>\n",
       "      <th>year_remod/add</th>\n",
       "      <th>mas_vnr_area</th>\n",
       "      <th>bsmtfin_sf_1</th>\n",
       "      <th>bsmtfin_sf_2</th>\n",
       "      <th>...</th>\n",
       "      <th>central_air</th>\n",
       "      <th>electrical</th>\n",
       "      <th>kitchen_qual</th>\n",
       "      <th>functional</th>\n",
       "      <th>garage_type</th>\n",
       "      <th>garage_finish</th>\n",
       "      <th>garage_qual</th>\n",
       "      <th>garage_cond</th>\n",
       "      <th>paved_drive</th>\n",
       "      <th>sale_type</th>\n",
       "    </tr>\n",
       "  </thead>\n",
       "  <tbody>\n",
       "    <tr>\n",
       "      <th>0</th>\n",
       "      <td>60</td>\n",
       "      <td>68.0</td>\n",
       "      <td>13517</td>\n",
       "      <td>6</td>\n",
       "      <td>8</td>\n",
       "      <td>1976</td>\n",
       "      <td>2005</td>\n",
       "      <td>289.0</td>\n",
       "      <td>533.0</td>\n",
       "      <td>0.0</td>\n",
       "      <td>...</td>\n",
       "      <td>Y</td>\n",
       "      <td>SBrkr</td>\n",
       "      <td>Gd</td>\n",
       "      <td>Typ</td>\n",
       "      <td>Attchd</td>\n",
       "      <td>RFn</td>\n",
       "      <td>TA</td>\n",
       "      <td>TA</td>\n",
       "      <td>Y</td>\n",
       "      <td>WD</td>\n",
       "    </tr>\n",
       "    <tr>\n",
       "      <th>1</th>\n",
       "      <td>60</td>\n",
       "      <td>43.0</td>\n",
       "      <td>11492</td>\n",
       "      <td>7</td>\n",
       "      <td>5</td>\n",
       "      <td>1996</td>\n",
       "      <td>1997</td>\n",
       "      <td>132.0</td>\n",
       "      <td>637.0</td>\n",
       "      <td>0.0</td>\n",
       "      <td>...</td>\n",
       "      <td>Y</td>\n",
       "      <td>SBrkr</td>\n",
       "      <td>Gd</td>\n",
       "      <td>Typ</td>\n",
       "      <td>Attchd</td>\n",
       "      <td>RFn</td>\n",
       "      <td>TA</td>\n",
       "      <td>TA</td>\n",
       "      <td>Y</td>\n",
       "      <td>WD</td>\n",
       "    </tr>\n",
       "  </tbody>\n",
       "</table>\n",
       "<p>2 rows × 74 columns</p>\n",
       "</div>"
      ],
      "text/plain": [
       "   ms_subclass  lot_frontage  lot_area  overall_qual  overall_cond  \\\n",
       "0           60          68.0     13517             6             8   \n",
       "1           60          43.0     11492             7             5   \n",
       "\n",
       "   year_built  year_remod/add  mas_vnr_area  bsmtfin_sf_1  bsmtfin_sf_2  ...  \\\n",
       "0        1976            2005         289.0         533.0           0.0  ...   \n",
       "1        1996            1997         132.0         637.0           0.0  ...   \n",
       "\n",
       "   central_air  electrical  kitchen_qual  functional  garage_type  \\\n",
       "0            Y       SBrkr            Gd         Typ       Attchd   \n",
       "1            Y       SBrkr            Gd         Typ       Attchd   \n",
       "\n",
       "   garage_finish  garage_qual  garage_cond  paved_drive  sale_type  \n",
       "0            RFn           TA           TA            Y        WD   \n",
       "1            RFn           TA           TA            Y        WD   \n",
       "\n",
       "[2 rows x 74 columns]"
      ]
     },
     "execution_count": 2,
     "metadata": {},
     "output_type": "execute_result"
    }
   ],
   "source": [
    "#Reading the clean and data without outliers\n",
    "df = pd.read_csv('../datasets/new_data.csv').drop('Unnamed: 0', \n",
    "                                                 axis = 1)\n",
    "df.head(2)"
   ]
  },
  {
   "cell_type": "code",
   "execution_count": 3,
   "id": "a411cb94",
   "metadata": {},
   "outputs": [
    {
     "data": {
      "text/html": [
       "<div>\n",
       "<style scoped>\n",
       "    .dataframe tbody tr th:only-of-type {\n",
       "        vertical-align: middle;\n",
       "    }\n",
       "\n",
       "    .dataframe tbody tr th {\n",
       "        vertical-align: top;\n",
       "    }\n",
       "\n",
       "    .dataframe thead th {\n",
       "        text-align: right;\n",
       "    }\n",
       "</style>\n",
       "<table border=\"1\" class=\"dataframe\">\n",
       "  <thead>\n",
       "    <tr style=\"text-align: right;\">\n",
       "      <th></th>\n",
       "      <th>id</th>\n",
       "      <th>pid</th>\n",
       "      <th>ms_subclass</th>\n",
       "      <th>ms_zoning</th>\n",
       "      <th>lot_frontage</th>\n",
       "      <th>lot_area</th>\n",
       "      <th>street</th>\n",
       "      <th>lot_shape</th>\n",
       "      <th>land_contour</th>\n",
       "      <th>utilities</th>\n",
       "      <th>...</th>\n",
       "      <th>wood_deck_sf</th>\n",
       "      <th>open_porch_sf</th>\n",
       "      <th>enclosed_porch</th>\n",
       "      <th>3ssn_porch</th>\n",
       "      <th>screen_porch</th>\n",
       "      <th>pool_area</th>\n",
       "      <th>misc_val</th>\n",
       "      <th>mo_sold</th>\n",
       "      <th>yr_sold</th>\n",
       "      <th>sale_type</th>\n",
       "    </tr>\n",
       "  </thead>\n",
       "  <tbody>\n",
       "    <tr>\n",
       "      <th>0</th>\n",
       "      <td>2658</td>\n",
       "      <td>902301120</td>\n",
       "      <td>190</td>\n",
       "      <td>RM</td>\n",
       "      <td>69.0</td>\n",
       "      <td>9142</td>\n",
       "      <td>Pave</td>\n",
       "      <td>Reg</td>\n",
       "      <td>Lvl</td>\n",
       "      <td>AllPub</td>\n",
       "      <td>...</td>\n",
       "      <td>0</td>\n",
       "      <td>60</td>\n",
       "      <td>112</td>\n",
       "      <td>0</td>\n",
       "      <td>0</td>\n",
       "      <td>0</td>\n",
       "      <td>0</td>\n",
       "      <td>4</td>\n",
       "      <td>2006</td>\n",
       "      <td>WD</td>\n",
       "    </tr>\n",
       "    <tr>\n",
       "      <th>1</th>\n",
       "      <td>2718</td>\n",
       "      <td>905108090</td>\n",
       "      <td>90</td>\n",
       "      <td>RL</td>\n",
       "      <td>68.0</td>\n",
       "      <td>9662</td>\n",
       "      <td>Pave</td>\n",
       "      <td>IR1</td>\n",
       "      <td>Lvl</td>\n",
       "      <td>AllPub</td>\n",
       "      <td>...</td>\n",
       "      <td>170</td>\n",
       "      <td>0</td>\n",
       "      <td>0</td>\n",
       "      <td>0</td>\n",
       "      <td>0</td>\n",
       "      <td>0</td>\n",
       "      <td>0</td>\n",
       "      <td>8</td>\n",
       "      <td>2006</td>\n",
       "      <td>WD</td>\n",
       "    </tr>\n",
       "  </tbody>\n",
       "</table>\n",
       "<p>2 rows × 75 columns</p>\n",
       "</div>"
      ],
      "text/plain": [
       "     id        pid  ms_subclass ms_zoning  lot_frontage  lot_area street  \\\n",
       "0  2658  902301120          190        RM          69.0      9142   Pave   \n",
       "1  2718  905108090           90        RL          68.0      9662   Pave   \n",
       "\n",
       "  lot_shape land_contour utilities  ... wood_deck_sf open_porch_sf  \\\n",
       "0       Reg          Lvl    AllPub  ...            0            60   \n",
       "1       IR1          Lvl    AllPub  ...          170             0   \n",
       "\n",
       "  enclosed_porch 3ssn_porch screen_porch pool_area misc_val  mo_sold  yr_sold  \\\n",
       "0            112          0            0         0        0        4     2006   \n",
       "1              0          0            0         0        0        8     2006   \n",
       "\n",
       "   sale_type  \n",
       "0        WD   \n",
       "1        WD   \n",
       "\n",
       "[2 rows x 75 columns]"
      ]
     },
     "execution_count": 3,
     "metadata": {},
     "output_type": "execute_result"
    }
   ],
   "source": [
    "#Test Data\n",
    "df_test = pd.read_csv(\"../datasets/cleaned_test.csv\").drop('Unnamed: 0',\n",
    "                                                         axis = 1)\n",
    "df_test.head(2)"
   ]
  },
  {
   "cell_type": "code",
   "execution_count": 4,
   "id": "ab320fd6",
   "metadata": {},
   "outputs": [],
   "source": [
    "#Fitting Linear Regression with highly correlated numeric vars\n",
    "y = df['saleprice']\n",
    "X = df[['overall_qual','gr_liv_area','garage_area',\n",
    "        'total_bsmt_sf','1st_flr_sf']]"
   ]
  },
  {
   "cell_type": "code",
   "execution_count": 5,
   "id": "fc46ac2f",
   "metadata": {},
   "outputs": [],
   "source": [
    "#Test Train Split\n",
    "X_train, X_test, y_train, y_test = train_test_split(X,y,\n",
    "                                                   test_size = 0.3,\n",
    "                                                   random_state = 42)"
   ]
  },
  {
   "cell_type": "code",
   "execution_count": 6,
   "id": "c646f352",
   "metadata": {},
   "outputs": [
    {
     "name": "stdout",
     "output_type": "stream",
     "text": [
      "616\n"
     ]
    },
    {
     "data": {
      "text/plain": [
       "([180717.9693379791, 180717.9693379791], 2)"
      ]
     },
     "execution_count": 6,
     "metadata": {},
     "output_type": "execute_result"
    }
   ],
   "source": [
    "#Baseline\n",
    "y_bar = y_train.mean()\n",
    "base_preds = [y_bar] * len(y_test)\n",
    "print(len(base_preds))\n",
    "base_preds[:2],2"
   ]
  },
  {
   "cell_type": "code",
   "execution_count": 7,
   "id": "50b8933a",
   "metadata": {},
   "outputs": [],
   "source": [
    "#Baseline Predictions\n",
    "dummy = DummyRegressor()\n",
    "dummy.fit(X_train, y_train)\n",
    "base_preds = dummy.predict(y_test)"
   ]
  },
  {
   "cell_type": "code",
   "execution_count": 8,
   "id": "cd63c1f0",
   "metadata": {},
   "outputs": [],
   "source": [
    "lr = LinearRegression()"
   ]
  },
  {
   "cell_type": "code",
   "execution_count": 9,
   "id": "877252d7",
   "metadata": {},
   "outputs": [
    {
     "name": "stdout",
     "output_type": "stream",
     "text": [
      "Train R2: 0.73\n",
      "Test R2: 0.77\n"
     ]
    }
   ],
   "source": [
    "#Fitting Linear Regression with 5 Highly correlated Numeric Vars\n",
    "lr.fit(X_train, y_train)\n",
    "print(f'Train R2: {round(lr.score(X_train, y_train),2)}')\n",
    "print(f'Test R2: {round(lr.score(X_test, y_test),2)}')"
   ]
  },
  {
   "cell_type": "code",
   "execution_count": 10,
   "id": "c07438cb",
   "metadata": {},
   "outputs": [
    {
     "data": {
      "text/plain": [
       "array([2.92173398e+04, 5.64400917e+01, 3.50413718e+01, 5.09442219e+01,\n",
       "       7.04027072e+00])"
      ]
     },
     "execution_count": 10,
     "metadata": {},
     "output_type": "execute_result"
    }
   ],
   "source": [
    "lr.coef_"
   ]
  },
  {
   "cell_type": "markdown",
   "id": "efbbcee8",
   "metadata": {},
   "source": [
    "### The model with 5 highly correlated numeric variables are explaining about 73% variability in training data and 77% in test data. By looking at the coefficients we can see that all else held equal for 1 unit increase in overall quality of the house the saleprice is going up by 29,217 USD and for 1 sqfeet increase in ground living area the saleprice is increasing by 56,440 USD."
   ]
  },
  {
   "cell_type": "code",
   "execution_count": 11,
   "id": "11f37ba5",
   "metadata": {},
   "outputs": [],
   "source": [
    "#Base metrics\n",
    "base_mae = mean_absolute_error(y_test, base_preds)\n",
    "base_mse = mean_squared_error(y_test, base_preds)\n",
    "base_rmse = mean_squared_error(y_test, base_preds, squared = False)"
   ]
  },
  {
   "cell_type": "code",
   "execution_count": 12,
   "id": "9e35095f",
   "metadata": {},
   "outputs": [],
   "source": [
    "y_preds = lr.predict(X_test)"
   ]
  },
  {
   "cell_type": "code",
   "execution_count": 13,
   "id": "2227a772",
   "metadata": {},
   "outputs": [
    {
     "name": "stdout",
     "output_type": "stream",
     "text": [
      "Baseline MSE: 5983691627.56332\n",
      "Test MSE: 1359644150.1839936\n",
      "\n",
      "==========\n",
      "\n",
      "Baseline RMSE: 77354.3252026887\n",
      "Test RMSE: 36873.35284706279\n",
      "\n",
      "==========\n",
      "\n",
      "Baseline MAE: 58082.873996560935\n",
      "Test MAE: 27412.914798531747\n"
     ]
    }
   ],
   "source": [
    "#Code borrowed from Loren's lesson\n",
    "print(f'Baseline MSE: {base_mse}')\n",
    "print(f'Test MSE: {mean_squared_error(y_test, y_preds)}')\n",
    "print()\n",
    "print('='*10)\n",
    "print()\n",
    "print(f'Baseline RMSE: {base_rmse}')\n",
    "print(f'Test RMSE: {mean_squared_error(y_test, y_preds, squared = False)}')\n",
    "print()\n",
    "print('='*10)\n",
    "print()\n",
    "print(f'Baseline MAE: {base_mae}')\n",
    "print(f'Test MAE: {mean_absolute_error(y_test, y_preds)}')"
   ]
  },
  {
   "cell_type": "markdown",
   "id": "858cdebd",
   "metadata": {},
   "source": [
    "### From the above metrics we can clearly see that model is performing a lot better than the baseline model"
   ]
  },
  {
   "cell_type": "code",
   "execution_count": 14,
   "id": "e69751b8",
   "metadata": {},
   "outputs": [],
   "source": [
    "#Adding  categorical variable ms_zoning and neighborhood to the model,\n",
    "# The categorical vars that I think are influencing saleprice based on\n",
    "#plots\n",
    "y = df['saleprice']\n",
    "X = df[['overall_qual','gr_liv_area','garage_area',\n",
    "        'total_bsmt_sf','1st_flr_sf', 'neighborhood','ms_zoning']]"
   ]
  },
  {
   "cell_type": "code",
   "execution_count": 15,
   "id": "91cbfeeb",
   "metadata": {},
   "outputs": [],
   "source": [
    "#Train Test Split\n",
    "X_train, X_test, y_train, y_test = train_test_split(X,y,\n",
    "                                                   test_size = 0.3,\n",
    "                                                   random_state = 42)"
   ]
  },
  {
   "cell_type": "code",
   "execution_count": 16,
   "id": "a66d3ec2",
   "metadata": {},
   "outputs": [
    {
     "name": "stdout",
     "output_type": "stream",
     "text": [
      "Train Score: [       nan 0.75105473 0.79788228 0.78261588        nan]\n",
      "Test Score:[0.74667973        nan 0.80306213 0.79919991 0.79156241]\n"
     ]
    }
   ],
   "source": [
    "#Fitting Linear Regression through column transformer and pipeline\n",
    "lr = LinearRegression()\n",
    "column_trans = make_column_transformer(\n",
    "(OneHotEncoder(), ['neighborhood', 'ms_zoning']), \n",
    "remainder = 'passthrough')\n",
    "column_trans.fit_transform(X_train, y_train)\n",
    "pipe = make_pipeline(column_trans, lr)\n",
    "print(f'Train Score: {cross_val_score(pipe,X_train,y_train, cv = 5)}')\n",
    "print(f'Test Score:{cross_val_score(pipe, X_test, y_test, cv = 5)}')"
   ]
  },
  {
   "cell_type": "code",
   "execution_count": 17,
   "id": "25ff65ce",
   "metadata": {},
   "outputs": [
    {
     "data": {
      "text/plain": [
       "Pipeline(steps=[('columntransformer',\n",
       "                 ColumnTransformer(remainder='passthrough',\n",
       "                                   transformers=[('onehotencoder',\n",
       "                                                  OneHotEncoder(),\n",
       "                                                  ['neighborhood',\n",
       "                                                   'ms_zoning'])])),\n",
       "                ('linearregression', LinearRegression())])"
      ]
     },
     "execution_count": 17,
     "metadata": {},
     "output_type": "execute_result"
    }
   ],
   "source": [
    "pipe.fit(X,y)"
   ]
  },
  {
   "cell_type": "code",
   "execution_count": 18,
   "id": "8314f513",
   "metadata": {},
   "outputs": [
    {
     "data": {
      "text/plain": [
       "0.7978246109196361"
      ]
     },
     "execution_count": 18,
     "metadata": {},
     "output_type": "execute_result"
    }
   ],
   "source": [
    "pipe.score(X,y)"
   ]
  },
  {
   "cell_type": "code",
   "execution_count": 19,
   "id": "205cd385",
   "metadata": {},
   "outputs": [],
   "source": [
    "y_preds = pipe.predict(X_test)"
   ]
  },
  {
   "cell_type": "code",
   "execution_count": 20,
   "id": "7422ed87",
   "metadata": {},
   "outputs": [
    {
     "data": {
      "text/plain": [
       "616"
      ]
     },
     "execution_count": 20,
     "metadata": {},
     "output_type": "execute_result"
    }
   ],
   "source": [
    "len(y_preds)"
   ]
  },
  {
   "cell_type": "code",
   "execution_count": 21,
   "id": "e0398407",
   "metadata": {},
   "outputs": [
    {
     "name": "stdout",
     "output_type": "stream",
     "text": [
      "Baseline MSE: 5983691627.56332\n",
      "Test MSE: 1138507705.8179524\n",
      "\n",
      "==========\n",
      "\n",
      "Baseline RMSE: 77354.3252026887\n",
      "Test RMSE: 33741.77982587689\n",
      "\n",
      "==========\n",
      "\n",
      "Baseline MAE: 58082.873996560935\n",
      "Test MAE: 24036.740446693937\n"
     ]
    }
   ],
   "source": [
    "#Code borrowed from Loren's lesson\n",
    "print(f'Baseline MSE: {base_mse}')\n",
    "print(f'Test MSE: {mean_squared_error(y_test, y_preds)}')\n",
    "print()\n",
    "print('='*10)\n",
    "print()\n",
    "print(f'Baseline RMSE: {base_rmse}')\n",
    "print(f'Test RMSE: {mean_squared_error(y_test, y_preds, squared = False)}')\n",
    "print()\n",
    "print('='*10)\n",
    "print()\n",
    "print(f'Baseline MAE: {base_mae}')\n",
    "print(f'Test MAE: {mean_absolute_error(y_test, y_preds)}')"
   ]
  },
  {
   "cell_type": "markdown",
   "id": "754e65dc",
   "metadata": {},
   "source": [
    "### The model improved after adding 2 more features, the mean absolute error came down from 27412 to 24037 and the root mean squared error came dowm from 36873 to 33740 and our new features are explaining about 80% change in variability of Saleprice"
   ]
  },
  {
   "cell_type": "code",
   "execution_count": 22,
   "id": "365b0b4f",
   "metadata": {},
   "outputs": [],
   "source": [
    "#Added exter_qual, garage_type and removed Total_bsmt_sqft features\n",
    "X = df[['overall_qual' ,'gr_liv_area', 'garage_area','1st_flr_sf',\n",
    "        'neighborhood', 'ms_zoning', 'garage_type',\n",
    "     'exter_qual']]\n",
    "y = df['saleprice']"
   ]
  },
  {
   "cell_type": "code",
   "execution_count": 23,
   "id": "7a26205a",
   "metadata": {},
   "outputs": [],
   "source": [
    "#Train Test Split\n",
    "X_train, X_test, y_train, y_test = train_test_split(X,y,\n",
    "                                                    test_size = 0.3,\n",
    "                                                    random_state = 42)"
   ]
  },
  {
   "cell_type": "code",
   "execution_count": 24,
   "id": "d3f56859",
   "metadata": {},
   "outputs": [
    {
     "name": "stdout",
     "output_type": "stream",
     "text": [
      "Train Score: [nan nan nan nan nan]\n",
      "Test Score:[nan nan nan nan nan]\n"
     ]
    }
   ],
   "source": [
    "#Fitting Linear Regression through column transformer and pipeline\n",
    "lr = LinearRegression()\n",
    "column_trans = make_column_transformer(\n",
    "(OneHotEncoder(), ['neighborhood', 'ms_zoning', 'garage_type',\n",
    "                  'exter_qual']), \n",
    "remainder = 'passthrough')\n",
    "column_trans.fit_transform(X_train, y_train)\n",
    "pipe1 = make_pipeline(column_trans, lr)\n",
    "print(f'Train Score: {cross_val_score(pipe,X_train,y_train, cv = 5)}')\n",
    "print(f'Test Score:{cross_val_score(pipe, X_test, y_test, cv = 5)}')"
   ]
  },
  {
   "cell_type": "code",
   "execution_count": 25,
   "id": "b1261540",
   "metadata": {},
   "outputs": [
    {
     "data": {
      "text/plain": [
       "Pipeline(steps=[('columntransformer',\n",
       "                 ColumnTransformer(remainder='passthrough',\n",
       "                                   transformers=[('onehotencoder',\n",
       "                                                  OneHotEncoder(),\n",
       "                                                  ['neighborhood', 'ms_zoning',\n",
       "                                                   'garage_type',\n",
       "                                                   'exter_qual'])])),\n",
       "                ('linearregression', LinearRegression())])"
      ]
     },
     "execution_count": 25,
     "metadata": {},
     "output_type": "execute_result"
    }
   ],
   "source": [
    "pipe1.fit(X,y)"
   ]
  },
  {
   "cell_type": "code",
   "execution_count": 26,
   "id": "17bfa1b8",
   "metadata": {},
   "outputs": [],
   "source": [
    "y_preds1 = pipe1.predict(X_test)"
   ]
  },
  {
   "cell_type": "code",
   "execution_count": 27,
   "id": "49e4bd84",
   "metadata": {},
   "outputs": [
    {
     "data": {
      "text/plain": [
       "0.8210569538858894"
      ]
     },
     "execution_count": 27,
     "metadata": {},
     "output_type": "execute_result"
    }
   ],
   "source": [
    "pipe1.score(X,y)"
   ]
  },
  {
   "cell_type": "code",
   "execution_count": 28,
   "id": "cf134d51",
   "metadata": {},
   "outputs": [
    {
     "name": "stdout",
     "output_type": "stream",
     "text": [
      "Baseline MSE: 5983691627.56332\n",
      "Test MSE: 1046865687.6713958\n",
      "\n",
      "==========\n",
      "\n",
      "Baseline RMSE: 77354.3252026887\n",
      "Test RMSE: 32355.303856885595\n",
      "\n",
      "==========\n",
      "\n",
      "Baseline MAE: 58082.873996560935\n",
      "Test MAE: 22717.532021046645\n"
     ]
    }
   ],
   "source": [
    "#Code borrowed from Loren's lesson\n",
    "print(f'Baseline MSE: {base_mse}')\n",
    "print(f'Test MSE: {mean_squared_error(y_test, y_preds1)}')\n",
    "print()\n",
    "print('='*10)\n",
    "print()\n",
    "print(f'Baseline RMSE: {base_rmse}')\n",
    "print(f'Test RMSE: {mean_squared_error(y_test, y_preds1, squared = False)}')\n",
    "print()\n",
    "print('='*10)\n",
    "print()\n",
    "print(f'Baseline MAE: {base_mae}')\n",
    "print(f'Test MAE: {mean_absolute_error(y_test, y_preds1)}')"
   ]
  },
  {
   "cell_type": "markdown",
   "id": "7e565587",
   "metadata": {},
   "source": [
    "#### removing total_bsmt_sqft and adding exter_qual and garage_type improved the model slightly and the features are now explaing about 82% change in saleprice, removing total basmt sqft didnot effect the model, it is important to remove this as we need to build a parsimonious model that means we need to choose few very important variables that explains more change in saleprice than other"
   ]
  },
  {
   "cell_type": "code",
   "execution_count": 29,
   "id": "4b223439",
   "metadata": {},
   "outputs": [],
   "source": [
    "# Added Kitchen_qual  categorical feature\n",
    "X = df[['overall_qual' ,'gr_liv_area', 'garage_area','1st_flr_sf',\n",
    "        'neighborhood', 'ms_zoning', 'garage_type','exter_qual', \n",
    "       'kitchen_qual']]\n",
    "y = df['saleprice']"
   ]
  },
  {
   "cell_type": "code",
   "execution_count": 30,
   "id": "738b64a8",
   "metadata": {},
   "outputs": [],
   "source": [
    "#Train Test Split\n",
    "X_train, X_test, y_train, y_test = train_test_split(X,y,\n",
    "                                                    test_size = 0.3,\n",
    "                                                    random_state = 42)"
   ]
  },
  {
   "cell_type": "code",
   "execution_count": 31,
   "id": "7d628f3a",
   "metadata": {},
   "outputs": [
    {
     "name": "stdout",
     "output_type": "stream",
     "text": [
      "Train Score: [nan nan nan nan nan]\n",
      "Test Score:[nan nan nan nan nan]\n"
     ]
    }
   ],
   "source": [
    "#Fitting Linear Regression\n",
    "lr = LinearRegression()\n",
    "column_trans = make_column_transformer(\n",
    "(OneHotEncoder(), ['neighborhood', 'ms_zoning', 'garage_type',\n",
    "                  'exter_qual', 'kitchen_qual']), \n",
    "remainder = 'passthrough')\n",
    "column_trans.fit_transform(X_train, y_train)\n",
    "pipe2 = make_pipeline(column_trans,lr)\n",
    "print(f'Train Score: {cross_val_score(pipe,X_train,y_train, cv = 5)}')\n",
    "print(f'Test Score:{cross_val_score(pipe, X_test, y_test, cv = 5)}')"
   ]
  },
  {
   "cell_type": "code",
   "execution_count": 32,
   "id": "fe3aef99",
   "metadata": {},
   "outputs": [
    {
     "data": {
      "text/plain": [
       "Pipeline(steps=[('columntransformer',\n",
       "                 ColumnTransformer(remainder='passthrough',\n",
       "                                   transformers=[('onehotencoder',\n",
       "                                                  OneHotEncoder(),\n",
       "                                                  ['neighborhood', 'ms_zoning',\n",
       "                                                   'garage_type', 'exter_qual',\n",
       "                                                   'kitchen_qual'])])),\n",
       "                ('linearregression', LinearRegression())])"
      ]
     },
     "execution_count": 32,
     "metadata": {},
     "output_type": "execute_result"
    }
   ],
   "source": [
    "pipe2.fit(X,y)"
   ]
  },
  {
   "cell_type": "code",
   "execution_count": 33,
   "id": "8fe19646",
   "metadata": {},
   "outputs": [],
   "source": [
    "y_preds2 = pipe2.predict(X_test)"
   ]
  },
  {
   "cell_type": "code",
   "execution_count": 34,
   "id": "9f77cd36",
   "metadata": {},
   "outputs": [
    {
     "data": {
      "text/plain": [
       "0.8344422949815116"
      ]
     },
     "execution_count": 34,
     "metadata": {},
     "output_type": "execute_result"
    }
   ],
   "source": [
    "pipe2.score(X,y)"
   ]
  },
  {
   "cell_type": "code",
   "execution_count": 35,
   "id": "2262f19f",
   "metadata": {},
   "outputs": [
    {
     "data": {
      "text/plain": [
       "0.8309324947092396"
      ]
     },
     "execution_count": 35,
     "metadata": {},
     "output_type": "execute_result"
    }
   ],
   "source": [
    "pipe2.score(X_train, y_train)"
   ]
  },
  {
   "cell_type": "code",
   "execution_count": 36,
   "id": "dfb43ee2",
   "metadata": {},
   "outputs": [
    {
     "data": {
      "text/plain": [
       "0.843083894879173"
      ]
     },
     "execution_count": 36,
     "metadata": {},
     "output_type": "execute_result"
    }
   ],
   "source": [
    "pipe2.score(X_test, y_test)"
   ]
  },
  {
   "cell_type": "code",
   "execution_count": 37,
   "id": "7ee8d621",
   "metadata": {},
   "outputs": [
    {
     "name": "stdout",
     "output_type": "stream",
     "text": [
      "Baseline MSE: 5983691627.56332\n",
      "Test MSE: 1138507705.8179524\n",
      "\n",
      "==========\n",
      "\n",
      "Baseline RMSE: 77354.3252026887\n",
      "Test RMSE: 33741.77982587689\n",
      "\n",
      "==========\n",
      "\n",
      "Baseline MAE: 58082.873996560935\n",
      "Test MAE: 24036.740446693937\n"
     ]
    }
   ],
   "source": [
    "#Code borrowed from Loren's lesson\n",
    "print(f'Baseline MSE: {base_mse}')\n",
    "print(f'Test MSE: {mean_squared_error(y_test, y_preds)}')\n",
    "print()\n",
    "print('='*10)\n",
    "print()\n",
    "print(f'Baseline RMSE: {base_rmse}')\n",
    "print(f'Test RMSE: {mean_squared_error(y_test, y_preds, squared = False)}')\n",
    "print()\n",
    "print('='*10)\n",
    "print()\n",
    "print(f'Baseline MAE: {base_mae}')\n",
    "print(f'Test MAE: {mean_absolute_error(y_test, y_preds)}')"
   ]
  },
  {
   "cell_type": "markdown",
   "id": "f6ca102c",
   "metadata": {},
   "source": [
    "#### About 83.4% variability is now explained by adding an additional feature kitchen quality and also the Root mean squared error and Mean absolute error also came downn slightly which indicates a better model. Adding some interaction variables and scaling the variables might improve the model, applying those techniques below"
   ]
  },
  {
   "cell_type": "code",
   "execution_count": 38,
   "id": "4ba7a22b",
   "metadata": {},
   "outputs": [
    {
     "name": "stdout",
     "output_type": "stream",
     "text": [
      "Train Score: [       nan 0.7837871  0.84041549 0.8218202         nan]\n",
      "Test Score:[0.77279095        nan 0.85933738 0.84674701 0.82809784]\n"
     ]
    }
   ],
   "source": [
    "#Fitting Linear Regression by scaling and adding polynomial features\n",
    "lr = LinearRegression()\n",
    "column_trans = make_column_transformer(\n",
    "    (StandardScaler(), ['overall_qual', 'gr_liv_area', 'garage_area',\n",
    "                       '1st_flr_sf']),\n",
    "    (PolynomialFeatures(), ['garage_area','1st_flr_sf', 'garage_area',\n",
    "                           '1st_flr_sf']),\n",
    "    (OneHotEncoder(), ['neighborhood', 'ms_zoning', 'garage_type',\n",
    "                  'exter_qual', 'kitchen_qual']),\n",
    "    remainder = 'passthrough')\n",
    "column_trans.fit_transform(X_train, y_train)\n",
    "pipe = make_pipeline(column_trans, lr)\n",
    "print(f'Train Score: {cross_val_score(pipe,X_train,y_train, cv = 5)}')\n",
    "print(f'Test Score:{cross_val_score(pipe, X_test, y_test, cv = 5)}')"
   ]
  },
  {
   "cell_type": "code",
   "execution_count": 39,
   "id": "79d141ab",
   "metadata": {},
   "outputs": [
    {
     "data": {
      "text/plain": [
       "Pipeline(steps=[('columntransformer',\n",
       "                 ColumnTransformer(remainder='passthrough',\n",
       "                                   transformers=[('standardscaler',\n",
       "                                                  StandardScaler(),\n",
       "                                                  ['overall_qual',\n",
       "                                                   'gr_liv_area', 'garage_area',\n",
       "                                                   '1st_flr_sf']),\n",
       "                                                 ('polynomialfeatures',\n",
       "                                                  PolynomialFeatures(),\n",
       "                                                  ['garage_area', '1st_flr_sf',\n",
       "                                                   'garage_area',\n",
       "                                                   '1st_flr_sf']),\n",
       "                                                 ('onehotencoder',\n",
       "                                                  OneHotEncoder(),\n",
       "                                                  ['neighborhood', 'ms_zoning',\n",
       "                                                   'garage_type', 'exter_qual',\n",
       "                                                   'kitchen_qual'])])),\n",
       "                ('linearregression', LinearRegression())])"
      ]
     },
     "execution_count": 39,
     "metadata": {},
     "output_type": "execute_result"
    }
   ],
   "source": [
    "pipe.fit(X,y)"
   ]
  },
  {
   "cell_type": "code",
   "execution_count": 40,
   "id": "a3092816",
   "metadata": {},
   "outputs": [
    {
     "data": {
      "text/plain": [
       "0.8395526034248724"
      ]
     },
     "execution_count": 40,
     "metadata": {},
     "output_type": "execute_result"
    }
   ],
   "source": [
    "pipe.score(X,y)"
   ]
  },
  {
   "cell_type": "code",
   "execution_count": 41,
   "id": "39b19491",
   "metadata": {},
   "outputs": [],
   "source": [
    "y_preds = pipe.predict(X_test)"
   ]
  },
  {
   "cell_type": "code",
   "execution_count": 42,
   "id": "8badf2cd",
   "metadata": {},
   "outputs": [
    {
     "name": "stdout",
     "output_type": "stream",
     "text": [
      "Baseline MSE: 5983691627.56332\n",
      "Test MSE: 884216772.5136886\n",
      "\n",
      "==========\n",
      "\n",
      "Baseline RMSE: 77354.3252026887\n",
      "Test RMSE: 29735.78269549481\n",
      "\n",
      "==========\n",
      "\n",
      "Baseline MAE: 58082.873996560935\n",
      "Test MAE: 21182.360912589284\n"
     ]
    }
   ],
   "source": [
    "#Code borrowed from Loren's lesson\n",
    "print(f'Baseline MSE: {base_mse}')\n",
    "print(f'Test MSE: {mean_squared_error(y_test, y_preds)}')\n",
    "print()\n",
    "print('='*10)\n",
    "print()\n",
    "print(f'Baseline RMSE: {base_rmse}')\n",
    "print(f'Test RMSE: {mean_squared_error(y_test, y_preds, squared = False)}')\n",
    "print()\n",
    "print('='*10)\n",
    "print()\n",
    "print(f'Baseline MAE: {base_mae}')\n",
    "print(f'Test MAE: {mean_absolute_error(y_test, y_preds)}')"
   ]
  },
  {
   "cell_type": "markdown",
   "id": "9f162c53",
   "metadata": {},
   "source": [
    "### Adding interaction variables and scaling numeric variables only improved the model slightly. As our intention is to find best features that determine the sale price we will be selecting our previous model without interaction variables and scaling which I think is less complicated, more interpretable and parsimonious. The model selected has a rsquared of 83.09 for train data and 84.30 for train data and the model is not overfitting."
   ]
  },
  {
   "cell_type": "code",
   "execution_count": 43,
   "id": "a6bedf3a",
   "metadata": {},
   "outputs": [],
   "source": [
    "features = ['overall_qual', 'gr_liv_area', 'garage_area', '1st_flr_sf',\n",
    "       'neighborhood', 'ms_zoning', 'garage_type', 'exter_qual',\n",
    "       'kitchen_qual']"
   ]
  },
  {
   "cell_type": "code",
   "execution_count": 44,
   "id": "437c7777",
   "metadata": {},
   "outputs": [],
   "source": [
    "dftest = df_test[['overall_qual', 'gr_liv_area', 'garage_area', '1st_flr_sf',\n",
    "       'neighborhood', 'ms_zoning', 'garage_type', 'exter_qual',\n",
    "       'kitchen_qual']]"
   ]
  },
  {
   "cell_type": "code",
   "execution_count": 45,
   "id": "10d5727b",
   "metadata": {},
   "outputs": [],
   "source": [
    "test_preds = pipe2.predict(dftest)"
   ]
  },
  {
   "cell_type": "code",
   "execution_count": 46,
   "id": "dbc3e3ba",
   "metadata": {},
   "outputs": [],
   "source": [
    "df_test['saleprice'] = test_preds\n",
    "new_submission = df_test[['id', 'saleprice']]\n",
    "new_submission.set_index('id', inplace=True) \n",
    "new_submission.to_csv('../datasets/submission.csv')"
   ]
  },
  {
   "cell_type": "markdown",
   "id": "1d17c207",
   "metadata": {},
   "source": [
    "### Conclusion:\n",
    "\n",
    "#### The most important factors that are determining the saleprice in Ames, IA are Overall quality of the house, Ground Living area, Garage area, Kitchen Quality, which are explaining about 78% varaiability in saleprice, other factors like Kitchen Quality, Neighborhood, External Quality, MS Zoning that is zoning classification are also important for people purchasing a house in Ames. For instance if the house falls under Floating village residential zoning the average sale price is about 200,000USD and the neighborhood Stonebrook looks to be in high demand and neighborhoods like Meadow village and Briardale have an average saleprice of 100,000 USD."
   ]
  },
  {
   "cell_type": "markdown",
   "id": "500b542b",
   "metadata": {},
   "source": [
    "### Next steps \n",
    "\n",
    "#### There may be other factors influencing house prices like interest rates, Government subsidies and inflation. We may need to include these factors as well for accurate predictions as real estate prices have high association with interest rates along with the factors that were mentioned in conclusion"
   ]
  },
  {
   "cell_type": "code",
   "execution_count": null,
   "id": "160034c3",
   "metadata": {},
   "outputs": [],
   "source": []
  }
 ],
 "metadata": {
  "kernelspec": {
   "display_name": "Python 3 (ipykernel)",
   "language": "python",
   "name": "python3"
  },
  "language_info": {
   "codemirror_mode": {
    "name": "ipython",
    "version": 3
   },
   "file_extension": ".py",
   "mimetype": "text/x-python",
   "name": "python",
   "nbconvert_exporter": "python",
   "pygments_lexer": "ipython3",
   "version": "3.9.13"
  }
 },
 "nbformat": 4,
 "nbformat_minor": 5
}
